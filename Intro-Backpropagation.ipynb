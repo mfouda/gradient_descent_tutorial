{
 "metadata": {
  "name": "",
  "signature": "sha256:531301beed385a9441b53330eb727423fca9a02580f8683125606a9d0aff9846"
 },
 "nbformat": 3,
 "nbformat_minor": 0,
 "worksheets": [
  {
   "cells": [
    {
     "cell_type": "code",
     "collapsed": false,
     "input": [
      "#Sample Function\n",
      "from sympy import symbols, init_printing\n",
      "from sympy.plotting import plot\n",
      "%matplotlib inline\n",
      "init_printing()\n",
      "x = symbols('x')\n",
      "fx = x**4 - 3*x**3 + 2\n",
      "p1 = plot(fx, (x, -2, 4), ylim=(-10,50)) #Plotting f(x) = x^4 - 3x^3 + 2, showing -2 < x <4\n"
     ],
     "language": "python",
     "metadata": {},
     "outputs": [
      {
       "metadata": {},
       "output_type": "display_data",
       "png": "[encoded data removed]",
       "text": [
        "<matplotlib.figure.Figure at 0x1079fe050>"
       ]
      }
     ],
     "prompt_number": 1
    },
    {
     "cell_type": "code",
     "collapsed": false,
     "input": [
      "#Find Local Minimum\n",
      "x_old = 0\n",
      "x_new = 4 # The algorithm starts at x=4\n",
      "gamma = 0.01 # step size\n",
      "precision = 0.001\n",
      "\n",
      "def f_derivative(x):\n",
      "    return 4 * x**3 - 9 * x**2\n",
      "\n",
      "while abs(x_new - x_old) > precision:\n",
      "    print x_old\n",
      "    x_old = x_new\n",
      "    x_new = x_old - gamma * f_derivative(x_old)\n",
      "\n",
      "print(\"Local minimum occurs at\", x_new)"
     ],
     "language": "python",
     "metadata": {},
     "outputs": [
      {
       "output_type": "stream",
       "stream": "stdout",
       "text": [
        "0\n",
        "4\n",
        "2.88\n",
        "2.67098112\n",
        "2.55084758769\n",
        "2.47254510256\n",
        "2.41812410759\n",
        "2.37880106108\n",
        "2.3496472269\n",
        "2.32764176272\n",
        "2.31081550023\n",
        "2.29782562982\n",
        "2.28772485178\n",
        "2.27982725215\n",
        "2.27362603244\n",
        "2.26874075927\n",
        "2.26488227334\n",
        "2.26182861437\n",
        "2.25940806886\n",
        "2.25748696949\n",
        "2.25596075153\n",
        "('Local minimum occurs at', 2.253781907156518)\n"
       ]
      }
     ],
     "prompt_number": 5
    },
    {
     "cell_type": "code",
     "collapsed": false,
     "input": [
      "import numpy as np\n",
      "\n",
      "#Our training data\n",
      "X = np.matrix('0.1;0.25;0.5;0.75;1')\n",
      "y = np.matrix('0;0;0;0;0')\n",
      "#Let's \"Randomly\" initialize weight to 5, just so we can see gradient descent at work\n",
      "weight = np.matrix('5.0')\n"
     ],
     "language": "python",
     "metadata": {},
     "outputs": [],
     "prompt_number": 56
    },
    {
     "cell_type": "code",
     "collapsed": false,
     "input": [
      "print X\n",
      "print y"
     ],
     "language": "python",
     "metadata": {},
     "outputs": [
      {
       "output_type": "stream",
       "stream": "stdout",
       "text": [
        "[[ 0.1 ]\n",
        " [ 0.25]\n",
        " [ 0.5 ]\n",
        " [ 0.75]\n",
        " [ 1.  ]]\n",
        "[[0]\n",
        " [0]\n",
        " [0]\n",
        " [0]\n",
        " [0]]\n"
       ]
      }
     ],
     "prompt_number": 60
    },
    {
     "cell_type": "code",
     "collapsed": false,
     "input": [
      "#sigmoid function\n",
      "def sigmoid(x):\n",
      "    return np.matrix(1.0 / (1.0 + np.exp(-x)))\n",
      "\n",
      "#run the neural net forward\n",
      "def run(X, weight):\n",
      "    return sigmoid(X * weight) #2x1 * 1x1 = 2x1 matrix\n",
      "\n",
      "#Our cost function\n",
      "def cost(X, y, weight):\n",
      "    nn_output = run(X, weight)\n",
      "    m = X.shape[0] #num training examples, 2\n",
      "    return np.sum((1.0000/m) * np.square(nn_output - y))\n",
      "print('Cost Before Gradient Descent: %2.5f \\n' % cost(X, y, weight))\n"
     ],
     "language": "python",
     "metadata": {},
     "outputs": [
      {
       "output_type": "stream",
       "stream": "stdout",
       "text": [
        "Cost Before Gradient Descent: 0.75738 \n",
        "\n"
       ]
      }
     ],
     "prompt_number": 61
    },
    {
     "cell_type": "code",
     "collapsed": false,
     "input": [
      "#Gradient Descent\n",
      "alpha = 0.5 #learning rate\n",
      "epochs = 2000 #num iterations\n",
      "for i in range(epochs):\n",
      "    cost_derivative = np.sum(np.multiply(\n",
      "                                        (run(X, weight) - y), \n",
      "                                         np.multiply(run(X, weight), (1 - run(X, weight)))\n",
      "                                        ))\n",
      "    weight = weight - alpha * cost_derivative\n",
      "\n",
      "print('Final Weight: %2.5f' % weight)\n",
      "print('Final Cost: %2.5f' % cost(X, y, weight))"
     ],
     "language": "python",
     "metadata": {},
     "outputs": [
      {
       "output_type": "stream",
       "stream": "stdout",
       "text": [
        "Final Weight: -24.34288\n",
        "Final Cost: 0.00130\n"
       ]
      }
     ],
     "prompt_number": 62
    },
    {
     "cell_type": "code",
     "collapsed": false,
     "input": [
      "np.round(run(X, weight),2)"
     ],
     "language": "python",
     "metadata": {},
     "outputs": [
      {
       "metadata": {},
       "output_type": "pyout",
       "prompt_number": 63,
       "text": [
        "array([[ 0.08],\n",
        "       [ 0.  ],\n",
        "       [ 0.  ],\n",
        "       [ 0.  ],\n",
        "       [ 0.  ]])"
       ]
      }
     ],
     "prompt_number": 63
    },
    {
     "cell_type": "code",
     "collapsed": false,
     "input": [],
     "language": "python",
     "metadata": {},
     "outputs": []
    },
    {
     "cell_type": "code",
     "collapsed": false,
     "input": [],
     "language": "python",
     "metadata": {},
     "outputs": []
    },
    {
     "cell_type": "code",
     "collapsed": false,
     "input": [
      "import numpy as np\n",
      "import matplotlib.pyplot as plt\n",
      "#Our training data\n",
      "X = np.matrix('0 1;1 1')\n",
      "y = np.matrix('1;0')\n",
      "\n",
      "#Let's randomly initialize weights\n",
      "weights = np.matrix(np.random.normal(0, 5, (2,1)))\n",
      "def sigmoid(x):\n",
      "    return np.matrix(1.0 / (1.0 + np.exp(-x)))\n",
      "\n",
      "#run the neural net forward\n",
      "def run(X, weights):\n",
      "    return sigmoid(X * weights) #1x2 * 2x2 = 1x1 matrix\n",
      "\n",
      "#Our cost function\n",
      "def cost(X, y, weights):\n",
      "    nn_output = run(X, weights)\n",
      "    m = X.shape[0] #num training examples, 2\n",
      "    return np.sum((1/m) * np.square(nn_output - y))\n",
      "\n",
      "print('Initial Weight: %s\\n' % weights)\n",
      "print('Cost Before Gradient Descent: %s \\n' % cost(X, y, weights))\n",
      "#Gradient Descent\n",
      "alpha = 0.05 #learning rate\n",
      "epochs = 12000 #num iterations\n",
      "for i in range(epochs):\n",
      "    #Here we calculate the partial derivatives of the cost function for each weight\n",
      "    costD1 = np.sum(np.multiply((run(X, weights) - y), np.multiply(run(X, weights), (1 - run(X, weights)))))\n",
      "    costD2 = np.sum(X[:,0] * np.multiply((run(X, weights) - y), np.multiply(run(X, weights), (1 - run(X, weights)))).T)\n",
      "    weights[0] = weights[0] - alpha * costD1\n",
      "    weights[1] = weights[1] - alpha * costD2\n",
      "\n",
      "print('Final Weight: %s\\n' % weights)\n",
      "print('Final Cost: %s \\n' % cost(X, y, weights))\n",
      "print('Result:\\n')\n",
      "print(np.round(run(X, weights)))\n",
      "print('Expected Result\\n')\n",
      "print(y)"
     ],
     "language": "python",
     "metadata": {},
     "outputs": [
      {
       "output_type": "stream",
       "stream": "stdout",
       "text": [
        "Initial Weight: [[ 3.57096977]\n",
        " [ 9.74365797]]\n",
        "\n",
        "Cost Before Gradient Descent: 0.0 \n",
        "\n",
        "Final Weight: [[ 3.56998075]\n",
        " [ 9.74266895]]\n"
       ]
      },
      {
       "output_type": "stream",
       "stream": "stdout",
       "text": [
        "\n",
        "Final Cost: 0.0 \n",
        "\n",
        "Result:\n",
        "\n",
        "[[ 1.]\n",
        " [ 1.]]\n",
        "Expected Result\n",
        "\n",
        "[[1]\n",
        " [0]]\n"
       ]
      }
     ],
     "prompt_number": 9
    },
    {
     "cell_type": "code",
     "collapsed": false,
     "input": [],
     "language": "python",
     "metadata": {},
     "outputs": []
    },
    {
     "cell_type": "code",
     "collapsed": false,
     "input": [],
     "language": "python",
     "metadata": {},
     "outputs": []
    }
   ],
   "metadata": {}
  }
 ]
}